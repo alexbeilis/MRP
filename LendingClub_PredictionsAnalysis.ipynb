{
 "cells": [
  {
   "cell_type": "markdown",
   "metadata": {},
   "source": [
    "# Loading and Reviewing Prediction Results from the Three Models"
   ]
  },
  {
   "cell_type": "code",
   "execution_count": 2,
   "metadata": {},
   "outputs": [],
   "source": [
    "import datetime as dt\n",
    "\n",
    "import pandas as pd\n",
    "\n",
    "import numpy as np\n",
    "\n",
    "import matplotlib.pyplot as plt\n",
    "import matplotlib.ticker\n",
    "%matplotlib inline\n",
    "\n",
    "import seaborn as sns\n",
    "\n",
    "from scipy.stats import norm, ranksums, mannwhitneyu, shapiro, probplot, ttest_ind, pointbiserialr, spearmanr, pearsonr,\\\n",
    "chi2_contingency\n",
    "\n",
    "from sklearn.metrics import precision_recall_curve, auc, make_scorer, average_precision_score, accuracy_score,\\\n",
    "recall_score, precision_score, f1_score, roc_curve, balanced_accuracy_score, roc_auc_score, classification_report,\\\n",
    "confusion_matrix, brier_score_loss\n",
    "\n",
    "from sklearn.metrics.cluster import contingency_matrix\n",
    "\n",
    "from statsmodels.stats.contingency_tables import mcnemar"
   ]
  },
  {
   "cell_type": "code",
   "execution_count": 3,
   "metadata": {},
   "outputs": [],
   "source": [
    "#Global prameters\n",
    "#Random state:\n",
    "rs = 0"
   ]
  },
  {
   "cell_type": "code",
   "execution_count": 4,
   "metadata": {},
   "outputs": [],
   "source": [
    "pd.set_option('display.max_columns', None)\n",
    "pd.options.display.max_rows = 200"
   ]
  },
  {
   "cell_type": "markdown",
   "metadata": {},
   "source": [
    "# Import prediction files"
   ]
  },
  {
   "cell_type": "code",
   "execution_count": 5,
   "metadata": {},
   "outputs": [
    {
     "name": "stdout",
     "output_type": "stream",
     "text": [
      "C:\\Users\\Alex\\Desktop\\Ryerson - Data Science\\Spring 2020\\MRP Course\\FromPandas\n"
     ]
    }
   ],
   "source": [
    "%cd \"C:\\Users\\Alex\\Desktop\\Ryerson - Data Science\\Spring 2020\\MRP Course\\FromPandas\""
   ]
  },
  {
   "cell_type": "code",
   "execution_count": 6,
   "metadata": {},
   "outputs": [],
   "source": [
    "dfFinal = pd.read_pickle('dfFinal.pkl')"
   ]
  },
  {
   "cell_type": "code",
   "execution_count": 7,
   "metadata": {},
   "outputs": [],
   "source": [
    "resultsLR = pd.read_csv('results_LR3.csv',index_col=False)"
   ]
  },
  {
   "cell_type": "code",
   "execution_count": 8,
   "metadata": {},
   "outputs": [],
   "source": [
    "resultsRF = pd.read_csv('results_RF2.csv')"
   ]
  },
  {
   "cell_type": "code",
   "execution_count": 9,
   "metadata": {},
   "outputs": [],
   "source": [
    "resultsNN = pd.read_csv('results_NN_New.csv')"
   ]
  },
  {
   "cell_type": "markdown",
   "metadata": {},
   "source": [
    "# Train/Test Splits"
   ]
  },
  {
   "cell_type": "code",
   "execution_count": 10,
   "metadata": {},
   "outputs": [],
   "source": [
    "#Locations of 36 months training and testing data.\n",
    "train36 = ((dfFinal.term_numeric==36) & (dfFinal.issue_d <= dt.datetime(year=2015, month =12, day=31)))\n",
    "test36 = ((dfFinal.term_numeric==36) & (dfFinal.issue_d > dt.datetime(year=2015, month =12, day=31)))"
   ]
  },
  {
   "cell_type": "code",
   "execution_count": 11,
   "metadata": {},
   "outputs": [],
   "source": [
    "#Locations of 60 months training and testing data.\n",
    "train60 = ((dfFinal.term_numeric==60) & (dfFinal.issue_d <= dt.datetime(year = 2014, month = 6, day = 30)))\n",
    "test60 = ((dfFinal.term_numeric==60) & (dfFinal.issue_d > dt.datetime(year = 2014, month = 6, day = 30)))"
   ]
  },
  {
   "cell_type": "code",
   "execution_count": 12,
   "metadata": {},
   "outputs": [],
   "source": [
    "#Count of each type of loan based on term.\n",
    "count36 = (dfFinal.term_numeric==36).sum()\n",
    "count60 = (dfFinal.term_numeric==60).sum()"
   ]
  },
  {
   "cell_type": "code",
   "execution_count": 13,
   "metadata": {},
   "outputs": [],
   "source": [
    "trainAll = (train36 | train60)\n",
    "testAll = (test36 | test60)"
   ]
  },
  {
   "cell_type": "code",
   "execution_count": 14,
   "metadata": {},
   "outputs": [
    {
     "data": {
      "text/html": [
       "<div>\n",
       "<style scoped>\n",
       "    .dataframe tbody tr th:only-of-type {\n",
       "        vertical-align: middle;\n",
       "    }\n",
       "\n",
       "    .dataframe tbody tr th {\n",
       "        vertical-align: top;\n",
       "    }\n",
       "\n",
       "    .dataframe thead th {\n",
       "        text-align: right;\n",
       "    }\n",
       "</style>\n",
       "<table border=\"1\" class=\"dataframe\">\n",
       "  <thead>\n",
       "    <tr style=\"text-align: right;\">\n",
       "      <th></th>\n",
       "      <th>Train %</th>\n",
       "      <th>Test %</th>\n",
       "    </tr>\n",
       "  </thead>\n",
       "  <tbody>\n",
       "    <tr>\n",
       "      <th>36 Months</th>\n",
       "      <td>65.6</td>\n",
       "      <td>34.4</td>\n",
       "    </tr>\n",
       "    <tr>\n",
       "      <th>60 Months</th>\n",
       "      <td>66.7</td>\n",
       "      <td>33.3</td>\n",
       "    </tr>\n",
       "    <tr>\n",
       "      <th>All Data</th>\n",
       "      <td>65.8</td>\n",
       "      <td>34.2</td>\n",
       "    </tr>\n",
       "  </tbody>\n",
       "</table>\n",
       "</div>"
      ],
      "text/plain": [
       "           Train %  Test %\n",
       "36 Months     65.6    34.4\n",
       "60 Months     66.7    33.3\n",
       "All Data      65.8    34.2"
      ]
     },
     "execution_count": 14,
     "metadata": {},
     "output_type": "execute_result"
    }
   ],
   "source": [
    "trainTest36 = pd.Series([train36.sum()/count36, test36.sum()/count36], name = '36 Months')\n",
    "trainTest60 = pd.Series([train60.sum()/count60, test60.sum()/count60], name = '60 Months')\n",
    "trainTestAll = pd.Series([trainAll.sum() / dfFinal.shape[0], testAll.sum()/dfFinal.shape[0]], name = 'All Data')\n",
    "df = (pd.DataFrame([trainTest36, trainTest60, trainTestAll]).T*100).round(1)\n",
    "df.index = ['Train %', 'Test %']\n",
    "df.T"
   ]
  },
  {
   "cell_type": "markdown",
   "metadata": {},
   "source": [
    "# Insert Predictions into Full DF"
   ]
  },
  {
   "cell_type": "code",
   "execution_count": 15,
   "metadata": {},
   "outputs": [
    {
     "data": {
      "text/html": [
       "<div>\n",
       "<style scoped>\n",
       "    .dataframe tbody tr th:only-of-type {\n",
       "        vertical-align: middle;\n",
       "    }\n",
       "\n",
       "    .dataframe tbody tr th {\n",
       "        vertical-align: top;\n",
       "    }\n",
       "\n",
       "    .dataframe thead th {\n",
       "        text-align: right;\n",
       "    }\n",
       "</style>\n",
       "<table border=\"1\" class=\"dataframe\">\n",
       "  <thead>\n",
       "    <tr style=\"text-align: right;\">\n",
       "      <th></th>\n",
       "      <th>id</th>\n",
       "      <th>true_class</th>\n",
       "      <th>predict_class_LR</th>\n",
       "      <th>prob_LR</th>\n",
       "    </tr>\n",
       "  </thead>\n",
       "  <tbody>\n",
       "    <tr>\n",
       "      <th>0</th>\n",
       "      <td>73713571</td>\n",
       "      <td>0</td>\n",
       "      <td>0</td>\n",
       "      <td>0.377908</td>\n",
       "    </tr>\n",
       "    <tr>\n",
       "      <th>1</th>\n",
       "      <td>75051478</td>\n",
       "      <td>0</td>\n",
       "      <td>0</td>\n",
       "      <td>0.450985</td>\n",
       "    </tr>\n",
       "    <tr>\n",
       "      <th>2</th>\n",
       "      <td>75092979</td>\n",
       "      <td>0</td>\n",
       "      <td>0</td>\n",
       "      <td>0.360520</td>\n",
       "    </tr>\n",
       "    <tr>\n",
       "      <th>3</th>\n",
       "      <td>75123593</td>\n",
       "      <td>0</td>\n",
       "      <td>0</td>\n",
       "      <td>0.223180</td>\n",
       "    </tr>\n",
       "    <tr>\n",
       "      <th>4</th>\n",
       "      <td>75358919</td>\n",
       "      <td>0</td>\n",
       "      <td>0</td>\n",
       "      <td>0.393617</td>\n",
       "    </tr>\n",
       "  </tbody>\n",
       "</table>\n",
       "</div>"
      ],
      "text/plain": [
       "         id  true_class  predict_class_LR   prob_LR\n",
       "0  73713571           0                 0  0.377908\n",
       "1  75051478           0                 0  0.450985\n",
       "2  75092979           0                 0  0.360520\n",
       "3  75123593           0                 0  0.223180\n",
       "4  75358919           0                 0  0.393617"
      ]
     },
     "execution_count": 15,
     "metadata": {},
     "output_type": "execute_result"
    }
   ],
   "source": [
    "#Preview of prediction dataframe.\n",
    "resultsLR.head()"
   ]
  },
  {
   "cell_type": "code",
   "execution_count": 16,
   "metadata": {},
   "outputs": [],
   "source": [
    "#Merge LR results\n",
    "testLoans = dfFinal[testAll].merge(resultsLR, how='left', on = 'id')"
   ]
  },
  {
   "cell_type": "code",
   "execution_count": 17,
   "metadata": {},
   "outputs": [],
   "source": [
    "#Merge RF result.\n",
    "keepColumns = resultsRF.columns[resultsRF.columns!='true_class']\n",
    "testLoans = testLoans.merge(resultsRF[keepColumns], how='left', on = 'id')"
   ]
  },
  {
   "cell_type": "code",
   "execution_count": 18,
   "metadata": {},
   "outputs": [],
   "source": [
    "#Merge NN results.\n",
    "keepColumns = resultsNN.columns[resultsNN.columns!='true_class']\n",
    "testLoans = testLoans.merge(resultsNN[keepColumns], how='left', on = 'id')"
   ]
  },
  {
   "cell_type": "code",
   "execution_count": 19,
   "metadata": {},
   "outputs": [
    {
     "data": {
      "text/html": [
       "<div>\n",
       "<style scoped>\n",
       "    .dataframe tbody tr th:only-of-type {\n",
       "        vertical-align: middle;\n",
       "    }\n",
       "\n",
       "    .dataframe tbody tr th {\n",
       "        vertical-align: top;\n",
       "    }\n",
       "\n",
       "    .dataframe thead th {\n",
       "        text-align: right;\n",
       "    }\n",
       "</style>\n",
       "<table border=\"1\" class=\"dataframe\">\n",
       "  <thead>\n",
       "    <tr style=\"text-align: right;\">\n",
       "      <th></th>\n",
       "      <th>issue_d</th>\n",
       "      <th>earliest_cr_line</th>\n",
       "      <th>id</th>\n",
       "      <th>loan_status</th>\n",
       "      <th>fully_paid</th>\n",
       "      <th>charged_off</th>\n",
       "      <th>term_numeric</th>\n",
       "      <th>Loan_Loss</th>\n",
       "      <th>total_rec_prncp</th>\n",
       "      <th>total_rec_int</th>\n",
       "      <th>total_rec_late_fee</th>\n",
       "      <th>recoveries</th>\n",
       "      <th>collection_recovery_fee</th>\n",
       "      <th>term</th>\n",
       "      <th>grade</th>\n",
       "      <th>sub_grade</th>\n",
       "      <th>application_type</th>\n",
       "      <th>purpose</th>\n",
       "      <th>issue_d_month</th>\n",
       "      <th>issue_d_year</th>\n",
       "      <th>loan_amnt</th>\n",
       "      <th>int_rate</th>\n",
       "      <th>installment</th>\n",
       "      <th>emp_length</th>\n",
       "      <th>home_ownership</th>\n",
       "      <th>verification_status</th>\n",
       "      <th>earliest_cr_line_month</th>\n",
       "      <th>earliest_cr_line_year</th>\n",
       "      <th>annual_inc</th>\n",
       "      <th>open_acc</th>\n",
       "      <th>total_acc</th>\n",
       "      <th>tot_cur_bal</th>\n",
       "      <th>mort_acc</th>\n",
       "      <th>dti</th>\n",
       "      <th>fico_range_low</th>\n",
       "      <th>fico_range_high</th>\n",
       "      <th>credit_hist_months</th>\n",
       "      <th>tot_hi_cred_lim</th>\n",
       "      <th>inq_last_6mths</th>\n",
       "      <th>mths_since_recent_inq</th>\n",
       "      <th>pub_rec</th>\n",
       "      <th>mths_since_last_record</th>\n",
       "      <th>acc_now_delinq</th>\n",
       "      <th>delinq_amnt</th>\n",
       "      <th>mths_since_last_delinq</th>\n",
       "      <th>delinq_2yrs</th>\n",
       "      <th>num_actv_rev_tl</th>\n",
       "      <th>mo_sin_rcnt_rev_tl_op</th>\n",
       "      <th>mo_sin_old_rev_tl_op</th>\n",
       "      <th>revol_bal</th>\n",
       "      <th>total_rev_hi_lim</th>\n",
       "      <th>num_rev_tl_bal_gt_0</th>\n",
       "      <th>mths_since_recent_bc</th>\n",
       "      <th>bc_util</th>\n",
       "      <th>percent_bc_gt_75</th>\n",
       "      <th>bc_open_to_buy</th>\n",
       "      <th>total_bc_limit</th>\n",
       "      <th>num_tl_op_past_12m</th>\n",
       "      <th>acc_open_past_24mths</th>\n",
       "      <th>mo_sin_rcnt_tl</th>\n",
       "      <th>avg_cur_bal</th>\n",
       "      <th>fico</th>\n",
       "      <th>true_class</th>\n",
       "      <th>predict_class_LR</th>\n",
       "      <th>prob_LR</th>\n",
       "      <th>predict_class_RF</th>\n",
       "      <th>prob_RF</th>\n",
       "      <th>Unnamed: 0</th>\n",
       "      <th>predict_class_NN</th>\n",
       "      <th>prob_NN</th>\n",
       "    </tr>\n",
       "  </thead>\n",
       "  <tbody>\n",
       "    <tr>\n",
       "      <th>0</th>\n",
       "      <td>2016-03-01</td>\n",
       "      <td>1999-02-01</td>\n",
       "      <td>73713571</td>\n",
       "      <td>Fully Paid</td>\n",
       "      <td>1</td>\n",
       "      <td>0</td>\n",
       "      <td>36</td>\n",
       "      <td>0.0</td>\n",
       "      <td>10000.0</td>\n",
       "      <td>1853.47</td>\n",
       "      <td>0.0</td>\n",
       "      <td>0.0</td>\n",
       "      <td>0.0</td>\n",
       "      <td>36 months</td>\n",
       "      <td>B</td>\n",
       "      <td>B5</td>\n",
       "      <td>Individual</td>\n",
       "      <td>debt_consolidation</td>\n",
       "      <td>3</td>\n",
       "      <td>2016</td>\n",
       "      <td>10000</td>\n",
       "      <td>11.47</td>\n",
       "      <td>329.62</td>\n",
       "      <td>Missing</td>\n",
       "      <td>MORTGAGE</td>\n",
       "      <td>Verified</td>\n",
       "      <td>2</td>\n",
       "      <td>1999</td>\n",
       "      <td>7.031600</td>\n",
       "      <td>10</td>\n",
       "      <td>35</td>\n",
       "      <td>498232.0</td>\n",
       "      <td>5.0</td>\n",
       "      <td>8.67</td>\n",
       "      <td>715</td>\n",
       "      <td>719</td>\n",
       "      <td>207</td>\n",
       "      <td>518995.0</td>\n",
       "      <td>1.0</td>\n",
       "      <td>4.0</td>\n",
       "      <td>0</td>\n",
       "      <td>NaN</td>\n",
       "      <td>0</td>\n",
       "      <td>0</td>\n",
       "      <td>63.0</td>\n",
       "      <td>0</td>\n",
       "      <td>3.0</td>\n",
       "      <td>19.0</td>\n",
       "      <td>137.0</td>\n",
       "      <td>1755</td>\n",
       "      <td>4000.0</td>\n",
       "      <td>3.0</td>\n",
       "      <td>19.0</td>\n",
       "      <td>44.5</td>\n",
       "      <td>0.0</td>\n",
       "      <td>1887.0</td>\n",
       "      <td>2700.0</td>\n",
       "      <td>6.0</td>\n",
       "      <td>9.0</td>\n",
       "      <td>3.0</td>\n",
       "      <td>49823.0</td>\n",
       "      <td>717.0</td>\n",
       "      <td>0</td>\n",
       "      <td>0</td>\n",
       "      <td>0.377908</td>\n",
       "      <td>0</td>\n",
       "      <td>0.376075</td>\n",
       "      <td>0</td>\n",
       "      <td>0</td>\n",
       "      <td>0.316724</td>\n",
       "    </tr>\n",
       "    <tr>\n",
       "      <th>1</th>\n",
       "      <td>2016-03-01</td>\n",
       "      <td>1988-08-01</td>\n",
       "      <td>75051478</td>\n",
       "      <td>Fully Paid</td>\n",
       "      <td>1</td>\n",
       "      <td>0</td>\n",
       "      <td>36</td>\n",
       "      <td>0.0</td>\n",
       "      <td>10000.0</td>\n",
       "      <td>2113.59</td>\n",
       "      <td>0.0</td>\n",
       "      <td>0.0</td>\n",
       "      <td>0.0</td>\n",
       "      <td>36 months</td>\n",
       "      <td>C</td>\n",
       "      <td>C2</td>\n",
       "      <td>Individual</td>\n",
       "      <td>credit_card</td>\n",
       "      <td>3</td>\n",
       "      <td>2016</td>\n",
       "      <td>10000</td>\n",
       "      <td>12.99</td>\n",
       "      <td>336.90</td>\n",
       "      <td>6 years</td>\n",
       "      <td>RENT</td>\n",
       "      <td>Source Verified</td>\n",
       "      <td>8</td>\n",
       "      <td>1988</td>\n",
       "      <td>2.600000</td>\n",
       "      <td>10</td>\n",
       "      <td>19</td>\n",
       "      <td>20302.0</td>\n",
       "      <td>0.0</td>\n",
       "      <td>33.19</td>\n",
       "      <td>715</td>\n",
       "      <td>719</td>\n",
       "      <td>335</td>\n",
       "      <td>38096.0</td>\n",
       "      <td>1.0</td>\n",
       "      <td>3.0</td>\n",
       "      <td>1</td>\n",
       "      <td>94.0</td>\n",
       "      <td>0</td>\n",
       "      <td>0</td>\n",
       "      <td>32.0</td>\n",
       "      <td>0</td>\n",
       "      <td>6.0</td>\n",
       "      <td>3.0</td>\n",
       "      <td>70.0</td>\n",
       "      <td>7630</td>\n",
       "      <td>20000.0</td>\n",
       "      <td>6.0</td>\n",
       "      <td>3.0</td>\n",
       "      <td>40.7</td>\n",
       "      <td>33.3</td>\n",
       "      <td>4742.0</td>\n",
       "      <td>8000.0</td>\n",
       "      <td>1.0</td>\n",
       "      <td>1.0</td>\n",
       "      <td>3.0</td>\n",
       "      <td>2256.0</td>\n",
       "      <td>717.0</td>\n",
       "      <td>0</td>\n",
       "      <td>0</td>\n",
       "      <td>0.450985</td>\n",
       "      <td>0</td>\n",
       "      <td>0.483233</td>\n",
       "      <td>1</td>\n",
       "      <td>0</td>\n",
       "      <td>0.451666</td>\n",
       "    </tr>\n",
       "    <tr>\n",
       "      <th>2</th>\n",
       "      <td>2016-03-01</td>\n",
       "      <td>2004-10-01</td>\n",
       "      <td>75092979</td>\n",
       "      <td>Fully Paid</td>\n",
       "      <td>1</td>\n",
       "      <td>0</td>\n",
       "      <td>36</td>\n",
       "      <td>0.0</td>\n",
       "      <td>16550.0</td>\n",
       "      <td>2658.69</td>\n",
       "      <td>0.0</td>\n",
       "      <td>0.0</td>\n",
       "      <td>0.0</td>\n",
       "      <td>36 months</td>\n",
       "      <td>C</td>\n",
       "      <td>C4</td>\n",
       "      <td>Individual</td>\n",
       "      <td>debt_consolidation</td>\n",
       "      <td>3</td>\n",
       "      <td>2016</td>\n",
       "      <td>16550</td>\n",
       "      <td>14.46</td>\n",
       "      <td>569.35</td>\n",
       "      <td>4 years</td>\n",
       "      <td>MORTGAGE</td>\n",
       "      <td>Source Verified</td>\n",
       "      <td>10</td>\n",
       "      <td>2004</td>\n",
       "      <td>3.311625</td>\n",
       "      <td>5</td>\n",
       "      <td>5</td>\n",
       "      <td>19705.0</td>\n",
       "      <td>0.0</td>\n",
       "      <td>19.25</td>\n",
       "      <td>725</td>\n",
       "      <td>729</td>\n",
       "      <td>138</td>\n",
       "      <td>29623.0</td>\n",
       "      <td>0.0</td>\n",
       "      <td>NaN</td>\n",
       "      <td>0</td>\n",
       "      <td>NaN</td>\n",
       "      <td>0</td>\n",
       "      <td>0</td>\n",
       "      <td>NaN</td>\n",
       "      <td>0</td>\n",
       "      <td>3.0</td>\n",
       "      <td>43.0</td>\n",
       "      <td>137.0</td>\n",
       "      <td>16169</td>\n",
       "      <td>20400.0</td>\n",
       "      <td>3.0</td>\n",
       "      <td>43.0</td>\n",
       "      <td>79.3</td>\n",
       "      <td>66.7</td>\n",
       "      <td>4231.0</td>\n",
       "      <td>20400.0</td>\n",
       "      <td>0.0</td>\n",
       "      <td>0.0</td>\n",
       "      <td>29.0</td>\n",
       "      <td>3941.0</td>\n",
       "      <td>727.0</td>\n",
       "      <td>0</td>\n",
       "      <td>0</td>\n",
       "      <td>0.360520</td>\n",
       "      <td>0</td>\n",
       "      <td>0.410791</td>\n",
       "      <td>2</td>\n",
       "      <td>0</td>\n",
       "      <td>0.331450</td>\n",
       "    </tr>\n",
       "    <tr>\n",
       "      <th>3</th>\n",
       "      <td>2016-03-01</td>\n",
       "      <td>1989-04-01</td>\n",
       "      <td>75123593</td>\n",
       "      <td>Fully Paid</td>\n",
       "      <td>1</td>\n",
       "      <td>0</td>\n",
       "      <td>36</td>\n",
       "      <td>0.0</td>\n",
       "      <td>8000.0</td>\n",
       "      <td>359.86</td>\n",
       "      <td>0.0</td>\n",
       "      <td>0.0</td>\n",
       "      <td>0.0</td>\n",
       "      <td>36 months</td>\n",
       "      <td>A</td>\n",
       "      <td>A1</td>\n",
       "      <td>Individual</td>\n",
       "      <td>vacation</td>\n",
       "      <td>3</td>\n",
       "      <td>2016</td>\n",
       "      <td>8000</td>\n",
       "      <td>5.32</td>\n",
       "      <td>240.92</td>\n",
       "      <td>10+ years</td>\n",
       "      <td>RENT</td>\n",
       "      <td>Source Verified</td>\n",
       "      <td>4</td>\n",
       "      <td>1989</td>\n",
       "      <td>8.000000</td>\n",
       "      <td>14</td>\n",
       "      <td>27</td>\n",
       "      <td>35291.0</td>\n",
       "      <td>0.0</td>\n",
       "      <td>20.00</td>\n",
       "      <td>750</td>\n",
       "      <td>754</td>\n",
       "      <td>327</td>\n",
       "      <td>77825.0</td>\n",
       "      <td>0.0</td>\n",
       "      <td>12.0</td>\n",
       "      <td>0</td>\n",
       "      <td>NaN</td>\n",
       "      <td>0</td>\n",
       "      <td>0</td>\n",
       "      <td>NaN</td>\n",
       "      <td>0</td>\n",
       "      <td>10.0</td>\n",
       "      <td>5.0</td>\n",
       "      <td>323.0</td>\n",
       "      <td>11101</td>\n",
       "      <td>43000.0</td>\n",
       "      <td>10.0</td>\n",
       "      <td>5.0</td>\n",
       "      <td>31.4</td>\n",
       "      <td>28.6</td>\n",
       "      <td>22696.0</td>\n",
       "      <td>33100.0</td>\n",
       "      <td>3.0</td>\n",
       "      <td>5.0</td>\n",
       "      <td>5.0</td>\n",
       "      <td>2521.0</td>\n",
       "      <td>752.0</td>\n",
       "      <td>0</td>\n",
       "      <td>0</td>\n",
       "      <td>0.223180</td>\n",
       "      <td>0</td>\n",
       "      <td>0.155637</td>\n",
       "      <td>3</td>\n",
       "      <td>0</td>\n",
       "      <td>0.201290</td>\n",
       "    </tr>\n",
       "    <tr>\n",
       "      <th>4</th>\n",
       "      <td>2016-03-01</td>\n",
       "      <td>2007-01-01</td>\n",
       "      <td>75358919</td>\n",
       "      <td>Fully Paid</td>\n",
       "      <td>1</td>\n",
       "      <td>0</td>\n",
       "      <td>36</td>\n",
       "      <td>0.0</td>\n",
       "      <td>5000.0</td>\n",
       "      <td>870.97</td>\n",
       "      <td>0.0</td>\n",
       "      <td>0.0</td>\n",
       "      <td>0.0</td>\n",
       "      <td>36 months</td>\n",
       "      <td>B</td>\n",
       "      <td>B4</td>\n",
       "      <td>Individual</td>\n",
       "      <td>debt_consolidation</td>\n",
       "      <td>3</td>\n",
       "      <td>2016</td>\n",
       "      <td>5000</td>\n",
       "      <td>10.75</td>\n",
       "      <td>163.11</td>\n",
       "      <td>10+ years</td>\n",
       "      <td>RENT</td>\n",
       "      <td>Source Verified</td>\n",
       "      <td>1</td>\n",
       "      <td>2007</td>\n",
       "      <td>2.566200</td>\n",
       "      <td>6</td>\n",
       "      <td>14</td>\n",
       "      <td>24756.0</td>\n",
       "      <td>0.0</td>\n",
       "      <td>26.52</td>\n",
       "      <td>750</td>\n",
       "      <td>754</td>\n",
       "      <td>111</td>\n",
       "      <td>37192.0</td>\n",
       "      <td>0.0</td>\n",
       "      <td>NaN</td>\n",
       "      <td>0</td>\n",
       "      <td>NaN</td>\n",
       "      <td>0</td>\n",
       "      <td>0</td>\n",
       "      <td>NaN</td>\n",
       "      <td>0</td>\n",
       "      <td>2.0</td>\n",
       "      <td>14.0</td>\n",
       "      <td>77.0</td>\n",
       "      <td>6692</td>\n",
       "      <td>16600.0</td>\n",
       "      <td>2.0</td>\n",
       "      <td>NaN</td>\n",
       "      <td>NaN</td>\n",
       "      <td>NaN</td>\n",
       "      <td>NaN</td>\n",
       "      <td>0.0</td>\n",
       "      <td>3.0</td>\n",
       "      <td>7.0</td>\n",
       "      <td>5.0</td>\n",
       "      <td>4126.0</td>\n",
       "      <td>752.0</td>\n",
       "      <td>0</td>\n",
       "      <td>0</td>\n",
       "      <td>0.393617</td>\n",
       "      <td>0</td>\n",
       "      <td>0.409393</td>\n",
       "      <td>4</td>\n",
       "      <td>0</td>\n",
       "      <td>0.366966</td>\n",
       "    </tr>\n",
       "  </tbody>\n",
       "</table>\n",
       "</div>"
      ],
      "text/plain": [
       "     issue_d earliest_cr_line        id loan_status  fully_paid  charged_off  \\\n",
       "0 2016-03-01       1999-02-01  73713571  Fully Paid           1            0   \n",
       "1 2016-03-01       1988-08-01  75051478  Fully Paid           1            0   \n",
       "2 2016-03-01       2004-10-01  75092979  Fully Paid           1            0   \n",
       "3 2016-03-01       1989-04-01  75123593  Fully Paid           1            0   \n",
       "4 2016-03-01       2007-01-01  75358919  Fully Paid           1            0   \n",
       "\n",
       "   term_numeric  Loan_Loss  total_rec_prncp  total_rec_int  \\\n",
       "0            36        0.0          10000.0        1853.47   \n",
       "1            36        0.0          10000.0        2113.59   \n",
       "2            36        0.0          16550.0        2658.69   \n",
       "3            36        0.0           8000.0         359.86   \n",
       "4            36        0.0           5000.0         870.97   \n",
       "\n",
       "   total_rec_late_fee  recoveries  collection_recovery_fee       term grade  \\\n",
       "0                 0.0         0.0                      0.0  36 months     B   \n",
       "1                 0.0         0.0                      0.0  36 months     C   \n",
       "2                 0.0         0.0                      0.0  36 months     C   \n",
       "3                 0.0         0.0                      0.0  36 months     A   \n",
       "4                 0.0         0.0                      0.0  36 months     B   \n",
       "\n",
       "  sub_grade application_type             purpose issue_d_month issue_d_year  \\\n",
       "0        B5       Individual  debt_consolidation             3         2016   \n",
       "1        C2       Individual         credit_card             3         2016   \n",
       "2        C4       Individual  debt_consolidation             3         2016   \n",
       "3        A1       Individual            vacation             3         2016   \n",
       "4        B4       Individual  debt_consolidation             3         2016   \n",
       "\n",
       "   loan_amnt  int_rate  installment emp_length home_ownership  \\\n",
       "0      10000     11.47       329.62    Missing       MORTGAGE   \n",
       "1      10000     12.99       336.90    6 years           RENT   \n",
       "2      16550     14.46       569.35    4 years       MORTGAGE   \n",
       "3       8000      5.32       240.92  10+ years           RENT   \n",
       "4       5000     10.75       163.11  10+ years           RENT   \n",
       "\n",
       "  verification_status earliest_cr_line_month earliest_cr_line_year  \\\n",
       "0            Verified                      2                  1999   \n",
       "1     Source Verified                      8                  1988   \n",
       "2     Source Verified                     10                  2004   \n",
       "3     Source Verified                      4                  1989   \n",
       "4     Source Verified                      1                  2007   \n",
       "\n",
       "   annual_inc  open_acc  total_acc  tot_cur_bal  mort_acc    dti  \\\n",
       "0    7.031600        10         35     498232.0       5.0   8.67   \n",
       "1    2.600000        10         19      20302.0       0.0  33.19   \n",
       "2    3.311625         5          5      19705.0       0.0  19.25   \n",
       "3    8.000000        14         27      35291.0       0.0  20.00   \n",
       "4    2.566200         6         14      24756.0       0.0  26.52   \n",
       "\n",
       "   fico_range_low  fico_range_high  credit_hist_months  tot_hi_cred_lim  \\\n",
       "0             715              719                 207         518995.0   \n",
       "1             715              719                 335          38096.0   \n",
       "2             725              729                 138          29623.0   \n",
       "3             750              754                 327          77825.0   \n",
       "4             750              754                 111          37192.0   \n",
       "\n",
       "   inq_last_6mths  mths_since_recent_inq  pub_rec  mths_since_last_record  \\\n",
       "0             1.0                    4.0        0                     NaN   \n",
       "1             1.0                    3.0        1                    94.0   \n",
       "2             0.0                    NaN        0                     NaN   \n",
       "3             0.0                   12.0        0                     NaN   \n",
       "4             0.0                    NaN        0                     NaN   \n",
       "\n",
       "   acc_now_delinq  delinq_amnt  mths_since_last_delinq  delinq_2yrs  \\\n",
       "0               0            0                    63.0            0   \n",
       "1               0            0                    32.0            0   \n",
       "2               0            0                     NaN            0   \n",
       "3               0            0                     NaN            0   \n",
       "4               0            0                     NaN            0   \n",
       "\n",
       "   num_actv_rev_tl  mo_sin_rcnt_rev_tl_op  mo_sin_old_rev_tl_op  revol_bal  \\\n",
       "0              3.0                   19.0                 137.0       1755   \n",
       "1              6.0                    3.0                  70.0       7630   \n",
       "2              3.0                   43.0                 137.0      16169   \n",
       "3             10.0                    5.0                 323.0      11101   \n",
       "4              2.0                   14.0                  77.0       6692   \n",
       "\n",
       "   total_rev_hi_lim  num_rev_tl_bal_gt_0  mths_since_recent_bc  bc_util  \\\n",
       "0            4000.0                  3.0                  19.0     44.5   \n",
       "1           20000.0                  6.0                   3.0     40.7   \n",
       "2           20400.0                  3.0                  43.0     79.3   \n",
       "3           43000.0                 10.0                   5.0     31.4   \n",
       "4           16600.0                  2.0                   NaN      NaN   \n",
       "\n",
       "   percent_bc_gt_75  bc_open_to_buy  total_bc_limit  num_tl_op_past_12m  \\\n",
       "0               0.0          1887.0          2700.0                 6.0   \n",
       "1              33.3          4742.0          8000.0                 1.0   \n",
       "2              66.7          4231.0         20400.0                 0.0   \n",
       "3              28.6         22696.0         33100.0                 3.0   \n",
       "4               NaN             NaN             0.0                 3.0   \n",
       "\n",
       "   acc_open_past_24mths  mo_sin_rcnt_tl  avg_cur_bal   fico  true_class  \\\n",
       "0                   9.0             3.0      49823.0  717.0           0   \n",
       "1                   1.0             3.0       2256.0  717.0           0   \n",
       "2                   0.0            29.0       3941.0  727.0           0   \n",
       "3                   5.0             5.0       2521.0  752.0           0   \n",
       "4                   7.0             5.0       4126.0  752.0           0   \n",
       "\n",
       "   predict_class_LR   prob_LR  predict_class_RF   prob_RF  Unnamed: 0  \\\n",
       "0                 0  0.377908                 0  0.376075           0   \n",
       "1                 0  0.450985                 0  0.483233           1   \n",
       "2                 0  0.360520                 0  0.410791           2   \n",
       "3                 0  0.223180                 0  0.155637           3   \n",
       "4                 0  0.393617                 0  0.409393           4   \n",
       "\n",
       "   predict_class_NN   prob_NN  \n",
       "0                 0  0.316724  \n",
       "1                 0  0.451666  \n",
       "2                 0  0.331450  \n",
       "3                 0  0.201290  \n",
       "4                 0  0.366966  "
      ]
     },
     "execution_count": 19,
     "metadata": {},
     "output_type": "execute_result"
    }
   ],
   "source": [
    "#Preview the complete dataframe with predictions.\n",
    "testLoans.head()"
   ]
  },
  {
   "cell_type": "markdown",
   "metadata": {},
   "source": [
    "# Overall Analysis"
   ]
  },
  {
   "cell_type": "code",
   "execution_count": 20,
   "metadata": {},
   "outputs": [
    {
     "data": {
      "text/plain": [
       "495659999.9713575"
      ]
     },
     "execution_count": 20,
     "metadata": {},
     "output_type": "execute_result"
    }
   ],
   "source": [
    "#Total Loan Loss\n",
    "lostPrincipleTotal = testLoans.Loan_Loss.sum()\n",
    "lostPrincipleTotal"
   ]
  },
  {
   "cell_type": "code",
   "execution_count": 21,
   "metadata": {},
   "outputs": [
    {
     "data": {
      "text/plain": [
       "854474874.1299999"
      ]
     },
     "execution_count": 21,
     "metadata": {},
     "output_type": "execute_result"
    }
   ],
   "source": [
    "#Total received interest.\n",
    "recIntTotal = testLoans.total_rec_int.sum()\n",
    "recIntTotal"
   ]
  },
  {
   "cell_type": "code",
   "execution_count": 24,
   "metadata": {},
   "outputs": [
    {
     "data": {
      "text/plain": [
       "58.00755703624677"
      ]
     },
     "execution_count": 24,
     "metadata": {},
     "output_type": "execute_result"
    }
   ],
   "source": [
    "#Lost principal as a percentage of total interest.\n",
    "lostPrincipleTotal/recIntTotal*100"
   ]
  },
  {
   "cell_type": "code",
   "execution_count": 25,
   "metadata": {},
   "outputs": [],
   "source": [
    "intGoodLoansTotal = testLoans[testLoans.charged_off==0].total_rec_int.sum()"
   ]
  },
  {
   "cell_type": "markdown",
   "metadata": {},
   "source": [
    "# Number of predicted bad loans from each model."
   ]
  },
  {
   "cell_type": "code",
   "execution_count": 26,
   "metadata": {},
   "outputs": [
    {
     "data": {
      "text/plain": [
       "96056"
      ]
     },
     "execution_count": 26,
     "metadata": {},
     "output_type": "execute_result"
    }
   ],
   "source": [
    "testLoans.predict_class_LR.sum()"
   ]
  },
  {
   "cell_type": "code",
   "execution_count": 27,
   "metadata": {},
   "outputs": [
    {
     "data": {
      "text/plain": [
       "91093"
      ]
     },
     "execution_count": 27,
     "metadata": {},
     "output_type": "execute_result"
    }
   ],
   "source": [
    "testLoans.predict_class_RF.sum()"
   ]
  },
  {
   "cell_type": "code",
   "execution_count": 28,
   "metadata": {},
   "outputs": [
    {
     "data": {
      "text/plain": [
       "95857"
      ]
     },
     "execution_count": 28,
     "metadata": {},
     "output_type": "execute_result"
    }
   ],
   "source": [
    "testLoans.predict_class_NN.sum()"
   ]
  },
  {
   "cell_type": "markdown",
   "metadata": {},
   "source": [
    "# LR Analysis"
   ]
  },
  {
   "cell_type": "code",
   "execution_count": 29,
   "metadata": {},
   "outputs": [],
   "source": [
    "#Location where predictions match actual.\n",
    "matchLR = testLoans.charged_off==testLoans.predict_class_LR"
   ]
  },
  {
   "cell_type": "code",
   "execution_count": 30,
   "metadata": {},
   "outputs": [
    {
     "data": {
      "text/plain": [
       "269099742.12"
      ]
     },
     "execution_count": 30,
     "metadata": {},
     "output_type": "execute_result"
    }
   ],
   "source": [
    "#Loan loss dollars saved.\n",
    "savedLR = np.round(testLoans[matchLR].Loan_Loss.sum(),2)\n",
    "savedLR"
   ]
  },
  {
   "cell_type": "code",
   "execution_count": 31,
   "metadata": {},
   "outputs": [
    {
     "data": {
      "text/plain": [
       "263456369.62999997"
      ]
     },
     "execution_count": 31,
     "metadata": {},
     "output_type": "execute_result"
    }
   ],
   "source": [
    "#Lost dollars due to false positives.\n",
    "lostIntLR = testLoans[(testLoans.charged_off==0) & (~matchLR)].total_rec_int.sum()\n",
    "lostIntLR"
   ]
  },
  {
   "cell_type": "code",
   "execution_count": 32,
   "metadata": {},
   "outputs": [
    {
     "data": {
      "text/plain": [
       "0.9790286960309182"
      ]
     },
     "execution_count": 32,
     "metadata": {},
     "output_type": "execute_result"
    }
   ],
   "source": [
    "#Percent of lost interest to saved bad principal.\n",
    "per_int_prinLR = lostIntLR/savedLR\n",
    "per_int_prinLR"
   ]
  },
  {
   "cell_type": "code",
   "execution_count": 33,
   "metadata": {},
   "outputs": [
    {
     "data": {
      "text/plain": [
       "0.5429119600846354"
      ]
     },
     "execution_count": 33,
     "metadata": {},
     "output_type": "execute_result"
    }
   ],
   "source": [
    "#Percentage of bad loan principal saved\n",
    "per_saved_prinLR = savedLR/lostPrincipleTotal\n",
    "per_saved_prinLR"
   ]
  },
  {
   "cell_type": "markdown",
   "metadata": {},
   "source": [
    "# RF Analysis"
   ]
  },
  {
   "cell_type": "code",
   "execution_count": 36,
   "metadata": {},
   "outputs": [],
   "source": [
    "#Location where predictions match actual.\n",
    "matchRF = testLoans.charged_off == testLoans.predict_class_RF"
   ]
  },
  {
   "cell_type": "code",
   "execution_count": 37,
   "metadata": {},
   "outputs": [
    {
     "data": {
      "text/plain": [
       "253860059.71029738"
      ]
     },
     "execution_count": 37,
     "metadata": {},
     "output_type": "execute_result"
    }
   ],
   "source": [
    "#Loan loss dollars saved.\n",
    "savedRF = testLoans[matchRF].Loan_Loss.sum()\n",
    "savedRF"
   ]
  },
  {
   "cell_type": "code",
   "execution_count": 38,
   "metadata": {},
   "outputs": [],
   "source": [
    "#Lost dollars due to false positives.\n",
    "lostIntRF = testLoans[(~matchRF) & (testLoans.charged_off==0)].total_rec_int.sum()"
   ]
  },
  {
   "cell_type": "code",
   "execution_count": 39,
   "metadata": {},
   "outputs": [
    {
     "data": {
      "text/plain": [
       "0.9557173006532568"
      ]
     },
     "execution_count": 39,
     "metadata": {},
     "output_type": "execute_result"
    }
   ],
   "source": [
    "#Percent of lost interest to saved bad principal.\n",
    "per_int_prinRF = lostIntRF/savedRF\n",
    "per_int_prinRF"
   ]
  },
  {
   "cell_type": "code",
   "execution_count": 40,
   "metadata": {},
   "outputs": [
    {
     "data": {
      "text/plain": [
       "0.5121657178811424"
      ]
     },
     "execution_count": 40,
     "metadata": {},
     "output_type": "execute_result"
    }
   ],
   "source": [
    "#Percentage of bad loan principal saved\n",
    "per_saved_prinRF = savedRF/lostPrincipleTotal\n",
    "per_saved_prinRF"
   ]
  },
  {
   "cell_type": "code",
   "execution_count": 41,
   "metadata": {},
   "outputs": [
    {
     "data": {
      "text/plain": [
       "0.3443913473932151"
      ]
     },
     "execution_count": 41,
     "metadata": {},
     "output_type": "execute_result"
    }
   ],
   "source": [
    "#Percentage of interest lost on good loans\n",
    "lostIntRF/intGoodLoansTotal"
   ]
  },
  {
   "cell_type": "markdown",
   "metadata": {},
   "source": [
    "# NN Analysis"
   ]
  },
  {
   "cell_type": "code",
   "execution_count": 43,
   "metadata": {},
   "outputs": [],
   "source": [
    "#Location where predictions match actual.\n",
    "matchNN = testLoans.charged_off == testLoans.predict_class_NN"
   ]
  },
  {
   "cell_type": "code",
   "execution_count": 44,
   "metadata": {},
   "outputs": [
    {
     "data": {
      "text/plain": [
       "272496969.5736584"
      ]
     },
     "execution_count": 44,
     "metadata": {},
     "output_type": "execute_result"
    }
   ],
   "source": [
    "#Loan loss dollars saved.\n",
    "savedNN = testLoans[matchNN].Loan_Loss.sum()\n",
    "savedNN"
   ]
  },
  {
   "cell_type": "code",
   "execution_count": 45,
   "metadata": {},
   "outputs": [
    {
     "data": {
      "text/plain": [
       "257661545.65999997"
      ]
     },
     "execution_count": 45,
     "metadata": {},
     "output_type": "execute_result"
    }
   ],
   "source": [
    "#Lost dollars due to false positives.\n",
    "lostIntNN = testLoans[(~matchNN) & (testLoans.charged_off==0)].total_rec_int.sum()\n",
    "lostIntNN"
   ]
  },
  {
   "cell_type": "code",
   "execution_count": 46,
   "metadata": {},
   "outputs": [
    {
     "data": {
      "text/plain": [
       "0.9455574719349373"
      ]
     },
     "execution_count": 46,
     "metadata": {},
     "output_type": "execute_result"
    }
   ],
   "source": [
    "#Percent of lost interest to saved bad principal.\n",
    "per_int_prinNN = lostIntNN/savedNN\n",
    "per_int_prinNN"
   ]
  },
  {
   "cell_type": "code",
   "execution_count": 47,
   "metadata": {},
   "outputs": [
    {
     "data": {
      "text/plain": [
       "0.5497659072537728"
      ]
     },
     "execution_count": 47,
     "metadata": {},
     "output_type": "execute_result"
    }
   ],
   "source": [
    "#Percentage of bad loan principal saved\n",
    "per_saved_prinNN = savedNN / lostPrincipleTotal\n",
    "per_saved_prinNN"
   ]
  },
  {
   "cell_type": "code",
   "execution_count": 48,
   "metadata": {},
   "outputs": [
    {
     "data": {
      "text/plain": [
       "0.3657446765151771"
      ]
     },
     "execution_count": 48,
     "metadata": {},
     "output_type": "execute_result"
    }
   ],
   "source": [
    "#Percentage of interest lost on good loans\n",
    "lostIntNN/intGoodLoansTotal"
   ]
  },
  {
   "cell_type": "markdown",
   "metadata": {},
   "source": [
    "# Overall Analysis"
   ]
  },
  {
   "cell_type": "markdown",
   "metadata": {},
   "source": [
    "## AUC"
   ]
  },
  {
   "cell_type": "code",
   "execution_count": 49,
   "metadata": {},
   "outputs": [],
   "source": [
    "aucLR = roc_auc_score(testLoans.charged_off, testLoans.prob_LR)\n",
    "aucRF = roc_auc_score(testLoans.charged_off, testLoans.prob_RF)\n",
    "aucNN = roc_auc_score(testLoans.charged_off, testLoans.prob_NN)"
   ]
  },
  {
   "cell_type": "code",
   "execution_count": 50,
   "metadata": {},
   "outputs": [],
   "source": [
    "aucSeries = pd.Series([aucLR, aucRF, aucNN], name = 'AUC')"
   ]
  },
  {
   "cell_type": "code",
   "execution_count": 51,
   "metadata": {},
   "outputs": [
    {
     "data": {
      "text/plain": [
       "0    0.696921\n",
       "1    0.695715\n",
       "2    0.698338\n",
       "Name: AUC, dtype: float64"
      ]
     },
     "execution_count": 51,
     "metadata": {},
     "output_type": "execute_result"
    }
   ],
   "source": [
    "aucSeries"
   ]
  },
  {
   "cell_type": "markdown",
   "metadata": {},
   "source": [
    "## Precision"
   ]
  },
  {
   "cell_type": "code",
   "execution_count": 52,
   "metadata": {},
   "outputs": [],
   "source": [
    "precLR = precision_score(testLoans.charged_off, testLoans.predict_class_LR)\n",
    "precRF = precision_score(testLoans.charged_off, testLoans.predict_class_RF)\n",
    "precNN = precision_score(testLoans.charged_off, testLoans.predict_class_NN)"
   ]
  },
  {
   "cell_type": "code",
   "execution_count": 53,
   "metadata": {},
   "outputs": [
    {
     "data": {
      "text/plain": [
       "0    0.308070\n",
       "1    0.311934\n",
       "2    0.309096\n",
       "Name: Precision, dtype: float64"
      ]
     },
     "execution_count": 53,
     "metadata": {},
     "output_type": "execute_result"
    }
   ],
   "source": [
    "precSeries = pd.Series([precLR, precRF, precNN], name = 'Precision')\n",
    "precSeries"
   ]
  },
  {
   "cell_type": "markdown",
   "metadata": {},
   "source": [
    "## Recall"
   ]
  },
  {
   "cell_type": "code",
   "execution_count": 54,
   "metadata": {},
   "outputs": [],
   "source": [
    "reclLR = recall_score(testLoans.charged_off, testLoans.predict_class_LR)\n",
    "reclRF = recall_score(testLoans.charged_off, testLoans.predict_class_RF)\n",
    "reclNN = recall_score(testLoans.charged_off, testLoans.predict_class_NN)"
   ]
  },
  {
   "cell_type": "code",
   "execution_count": 55,
   "metadata": {},
   "outputs": [
    {
     "data": {
      "text/plain": [
       "0    0.472248\n",
       "1    0.453465\n",
       "2    0.472838\n",
       "Name: Recall, dtype: float64"
      ]
     },
     "execution_count": 55,
     "metadata": {},
     "output_type": "execute_result"
    }
   ],
   "source": [
    "reclSeries = pd.Series([reclLR, reclRF, reclNN], name = 'Recall')\n",
    "reclSeries"
   ]
  },
  {
   "cell_type": "markdown",
   "metadata": {},
   "source": [
    "## Accuracy"
   ]
  },
  {
   "cell_type": "code",
   "execution_count": 56,
   "metadata": {},
   "outputs": [],
   "source": [
    "accLR = accuracy_score(testLoans.charged_off, testLoans.predict_class_LR)\n",
    "accRF = accuracy_score(testLoans.charged_off, testLoans.predict_class_RF)\n",
    "accNN = accuracy_score(testLoans.charged_off, testLoans.predict_class_NN)"
   ]
  },
  {
   "cell_type": "code",
   "execution_count": 57,
   "metadata": {},
   "outputs": [
    {
     "data": {
      "text/plain": [
       "0    0.727830\n",
       "1    0.734964\n",
       "2    0.728576\n",
       "Name: Accuracy, dtype: float64"
      ]
     },
     "execution_count": 57,
     "metadata": {},
     "output_type": "execute_result"
    }
   ],
   "source": [
    "accSeries = pd.Series([accLR, accRF, accNN], name='Accuracy')\n",
    "accSeries"
   ]
  },
  {
   "cell_type": "markdown",
   "metadata": {},
   "source": [
    "## F1 Score"
   ]
  },
  {
   "cell_type": "code",
   "execution_count": 58,
   "metadata": {},
   "outputs": [],
   "source": [
    "f1_LR = f1_score(testLoans.charged_off, testLoans.predict_class_LR)\n",
    "f1_RF = f1_score(testLoans.charged_off, testLoans.predict_class_RF)\n",
    "f1_NN = f1_score(testLoans.charged_off, testLoans.predict_class_NN)"
   ]
  },
  {
   "cell_type": "code",
   "execution_count": 59,
   "metadata": {},
   "outputs": [
    {
     "data": {
      "text/plain": [
       "0    0.372888\n",
       "1    0.369614\n",
       "2    0.373823\n",
       "Name: F1 Score, dtype: float64"
      ]
     },
     "execution_count": 59,
     "metadata": {},
     "output_type": "execute_result"
    }
   ],
   "source": [
    "f1_Series = pd.Series([f1_LR, f1_RF, f1_NN], name='F1 Score')\n",
    "f1_Series"
   ]
  },
  {
   "cell_type": "markdown",
   "metadata": {},
   "source": [
    "## Classification summary"
   ]
  },
  {
   "cell_type": "code",
   "execution_count": 60,
   "metadata": {},
   "outputs": [
    {
     "data": {
      "text/html": [
       "<div>\n",
       "<style scoped>\n",
       "    .dataframe tbody tr th:only-of-type {\n",
       "        vertical-align: middle;\n",
       "    }\n",
       "\n",
       "    .dataframe tbody tr th {\n",
       "        vertical-align: top;\n",
       "    }\n",
       "\n",
       "    .dataframe thead th {\n",
       "        text-align: right;\n",
       "    }\n",
       "</style>\n",
       "<table border=\"1\" class=\"dataframe\">\n",
       "  <thead>\n",
       "    <tr style=\"text-align: right;\">\n",
       "      <th></th>\n",
       "      <th>LR</th>\n",
       "      <th>RF</th>\n",
       "      <th>NN</th>\n",
       "    </tr>\n",
       "  </thead>\n",
       "  <tbody>\n",
       "    <tr>\n",
       "      <th>Accuracy</th>\n",
       "      <td>0.7278</td>\n",
       "      <td>0.7350</td>\n",
       "      <td>0.7286</td>\n",
       "    </tr>\n",
       "    <tr>\n",
       "      <th>AUC</th>\n",
       "      <td>0.6969</td>\n",
       "      <td>0.6957</td>\n",
       "      <td>0.6983</td>\n",
       "    </tr>\n",
       "    <tr>\n",
       "      <th>Recall</th>\n",
       "      <td>0.4722</td>\n",
       "      <td>0.4535</td>\n",
       "      <td>0.4728</td>\n",
       "    </tr>\n",
       "    <tr>\n",
       "      <th>Precision</th>\n",
       "      <td>0.3081</td>\n",
       "      <td>0.3119</td>\n",
       "      <td>0.3091</td>\n",
       "    </tr>\n",
       "    <tr>\n",
       "      <th>F1 Score</th>\n",
       "      <td>0.3729</td>\n",
       "      <td>0.3696</td>\n",
       "      <td>0.3738</td>\n",
       "    </tr>\n",
       "  </tbody>\n",
       "</table>\n",
       "</div>"
      ],
      "text/plain": [
       "               LR      RF      NN\n",
       "Accuracy   0.7278  0.7350  0.7286\n",
       "AUC        0.6969  0.6957  0.6983\n",
       "Recall     0.4722  0.4535  0.4728\n",
       "Precision  0.3081  0.3119  0.3091\n",
       "F1 Score   0.3729  0.3696  0.3738"
      ]
     },
     "execution_count": 60,
     "metadata": {},
     "output_type": "execute_result"
    }
   ],
   "source": [
    "df_results = pd.DataFrame([accSeries, aucSeries, reclSeries, precSeries, f1_Series]).T\n",
    "df_results.index = ['LR', 'RF', 'NN']\n",
    "np.round(df_results.T, 4)"
   ]
  },
  {
   "cell_type": "markdown",
   "metadata": {},
   "source": [
    "## Financial Summary"
   ]
  },
  {
   "cell_type": "code",
   "execution_count": 61,
   "metadata": {},
   "outputs": [
    {
     "data": {
      "text/plain": [
       "(0.9790286960309182, 0.9557173006532568, 0.9455574719349373)"
      ]
     },
     "execution_count": 61,
     "metadata": {},
     "output_type": "execute_result"
    }
   ],
   "source": [
    "per_int_prinLR, per_int_prinRF, per_int_prinNN"
   ]
  },
  {
   "cell_type": "code",
   "execution_count": 62,
   "metadata": {},
   "outputs": [
    {
     "data": {
      "text/plain": [
       "(0.5429119600846354, 0.5121657178811424, 0.5497659072537728)"
      ]
     },
     "execution_count": 62,
     "metadata": {},
     "output_type": "execute_result"
    }
   ],
   "source": [
    "per_saved_prinLR, per_saved_prinRF, per_saved_prinNN"
   ]
  },
  {
   "cell_type": "markdown",
   "metadata": {},
   "source": [
    "# Significance Testing Model Difference"
   ]
  },
  {
   "cell_type": "code",
   "execution_count": 69,
   "metadata": {},
   "outputs": [],
   "source": [
    "#Create indicator columns for each model where 1 indicates prediction as correct, and 0 as incorrect.\n",
    "#To be used for contingency table creation.\n",
    "testLoans['LR_Outcome'] = (testLoans.predict_class_LR==testLoans.charged_off).astype('int')\n",
    "testLoans['RF_Outcome'] = (testLoans.predict_class_RF==testLoans.charged_off).astype('int')\n",
    "testLoans['NN_Outcome'] = (testLoans.predict_class_NN==testLoans.charged_off).astype('int')"
   ]
  },
  {
   "cell_type": "code",
   "execution_count": 71,
   "metadata": {},
   "outputs": [],
   "source": [
    "#Create contingency tables used in McNemar's test.\n",
    "cont_LR_RF = contingency_matrix(testLoans.LR_Outcome, testLoans.RF_Outcome)\n",
    "cont_LR_NN = contingency_matrix(testLoans.LR_Outcome, testLoans.NN_Outcome)\n",
    "cont_RF_NN = contingency_matrix(testLoans.RF_Outcome, testLoans.NN_Outcome)"
   ]
  },
  {
   "cell_type": "code",
   "execution_count": 76,
   "metadata": {},
   "outputs": [],
   "source": [
    "#Calculate McNemar's test statistic and p-value based on contingency tables.\n",
    "result_LR_RF = mcnemar(cont_LR_RF, exact=False, correction=True)\n",
    "result_LR_NN = mcnemar(cont_LR_NN, exact=False, correction=True)\n",
    "result_RF_NN = mcnemar(cont_RF_NN, exact=False, correction=True)"
   ]
  },
  {
   "cell_type": "code",
   "execution_count": 77,
   "metadata": {},
   "outputs": [
    {
     "data": {
      "text/plain": [
       "(2.3926117451285807e-50, 222.64768077514813)"
      ]
     },
     "execution_count": 77,
     "metadata": {},
     "output_type": "execute_result"
    }
   ],
   "source": [
    "#Logistic Regression and Random Forest \n",
    "#p-value and test statistic\n",
    "result_LR_RF.pvalue, result_LR_RF.statistic"
   ]
  },
  {
   "cell_type": "code",
   "execution_count": 78,
   "metadata": {},
   "outputs": [
    {
     "data": {
      "text/plain": [
       "(0.16792565050363004, 1.9013646526689112)"
      ]
     },
     "execution_count": 78,
     "metadata": {},
     "output_type": "execute_result"
    }
   ],
   "source": [
    "#Logistic Regression and Neural Net\n",
    "#p-value and test statistic\n",
    "result_LR_NN.pvalue, result_LR_NN.statistic"
   ]
  },
  {
   "cell_type": "code",
   "execution_count": 79,
   "metadata": {},
   "outputs": [
    {
     "data": {
      "text/plain": [
       "(5.964873257350309e-30, 129.254776919065)"
      ]
     },
     "execution_count": 79,
     "metadata": {},
     "output_type": "execute_result"
    }
   ],
   "source": [
    "#Random Forest and Neural Net\n",
    "#p-value and test statistic\n",
    "result_RF_NN.pvalue, result_RF_NN.statistic"
   ]
  },
  {
   "cell_type": "markdown",
   "metadata": {},
   "source": [
    "# Additional Analysis - Not Used in Paper"
   ]
  },
  {
   "cell_type": "markdown",
   "metadata": {},
   "source": [
    "## Logistic Regression"
   ]
  },
  {
   "cell_type": "code",
   "execution_count": 84,
   "metadata": {},
   "outputs": [
    {
     "data": {
      "text/plain": [
       "<matplotlib.legend.Legend at 0x23194460278>"
      ]
     },
     "execution_count": 84,
     "metadata": {},
     "output_type": "execute_result"
    },
    {
     "data": {
      "image/png": "[encoded data removed]",
      "text/plain": [
       "<Figure size 432x288 with 1 Axes>"
      ]
     },
     "metadata": {
      "needs_background": "light"
     },
     "output_type": "display_data"
    }
   ],
   "source": [
    "#Distribution of predicted probabilities from the LR model for each of the classes.\n",
    "sns.distplot(testLoans[testLoans.charged_off==1].prob_LR, label='Charged Off').legend()\n",
    "sns.distplot(testLoans[testLoans.charged_off==0].prob_LR, label='Fully Paid').legend()"
   ]
  },
  {
   "cell_type": "code",
   "execution_count": 85,
   "metadata": {},
   "outputs": [
    {
     "data": {
      "text/plain": [
       "0.18446149557051042"
      ]
     },
     "execution_count": 85,
     "metadata": {},
     "output_type": "execute_result"
    }
   ],
   "source": [
    "#LR brier score - LR model.\n",
    "brier_score_loss(testLoans.charged_off, testLoans.prob_LR)"
   ]
  },
  {
   "cell_type": "markdown",
   "metadata": {},
   "source": [
    "## Random Forest"
   ]
  },
  {
   "cell_type": "code",
   "execution_count": 86,
   "metadata": {},
   "outputs": [
    {
     "data": {
      "text/plain": [
       "<matplotlib.legend.Legend at 0x2319458b7b8>"
      ]
     },
     "execution_count": 86,
     "metadata": {},
     "output_type": "execute_result"
    },
    {
     "data": {
      "image/png": "[encoded data removed]",
      "text/plain": [
       "<Figure size 432x288 with 1 Axes>"
      ]
     },
     "metadata": {
      "needs_background": "light"
     },
     "output_type": "display_data"
    }
   ],
   "source": [
    "#Distribution of predicted probabilities from the LR model for each of the classes.\n",
    "sns.distplot(testLoans[testLoans.charged_off==1].prob_RF, label='Charged Off').legend()\n",
    "sns.distplot(testLoans[testLoans.charged_off==0].prob_RF, label='Fully Paid').legend()"
   ]
  },
  {
   "cell_type": "code",
   "execution_count": 87,
   "metadata": {},
   "outputs": [
    {
     "data": {
      "text/plain": [
       "0.1819317340333168"
      ]
     },
     "execution_count": 87,
     "metadata": {},
     "output_type": "execute_result"
    }
   ],
   "source": [
    "#RF brier score - RF Model\n",
    "brier_score_loss(testLoans.charged_off, testLoans.prob_RF)"
   ]
  },
  {
   "cell_type": "markdown",
   "metadata": {},
   "source": [
    "## Neural Net"
   ]
  },
  {
   "cell_type": "code",
   "execution_count": 88,
   "metadata": {},
   "outputs": [
    {
     "data": {
      "text/plain": [
       "<matplotlib.legend.Legend at 0x23194ba1780>"
      ]
     },
     "execution_count": 88,
     "metadata": {},
     "output_type": "execute_result"
    },
    {
     "data": {
      "image/png": "[encoded data removed]",
      "text/plain": [
       "<Figure size 432x288 with 1 Axes>"
      ]
     },
     "metadata": {
      "needs_background": "light"
     },
     "output_type": "display_data"
    }
   ],
   "source": [
    "#Distribution of predicted probabilities from the LR model for each of the classes.\n",
    "sns.distplot(testLoans[testLoans.charged_off==1].prob_NN, label='Charged Off').legend()\n",
    "sns.distplot(testLoans[testLoans.charged_off==0].prob_NN, label='Fully Paid').legend()"
   ]
  },
  {
   "cell_type": "code",
   "execution_count": 89,
   "metadata": {},
   "outputs": [
    {
     "data": {
      "text/plain": [
       "0.18119054450691893"
      ]
     },
     "execution_count": 89,
     "metadata": {},
     "output_type": "execute_result"
    }
   ],
   "source": [
    "#Neural net brier score - NN model\n",
    "brier_score_loss(testLoans.charged_off, testLoans.prob_NN)"
   ]
  }
 ],
 "metadata": {
  "kernelspec": {
   "display_name": "Python 3",
   "language": "python",
   "name": "python3"
  },
  "language_info": {
   "codemirror_mode": {
    "name": "ipython",
    "version": 3
   },
   "file_extension": ".py",
   "mimetype": "text/x-python",
   "name": "python",
   "nbconvert_exporter": "python",
   "pygments_lexer": "ipython3",
   "version": "3.6.10"
  }
 },
 "nbformat": 4,
 "nbformat_minor": 4
}
